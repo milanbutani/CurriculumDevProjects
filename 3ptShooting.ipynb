{
 "cells": [
  {
   "cell_type": "markdown",
   "metadata": {},
   "source": [
    "# Team Offensive Rating and Shooting in the NBA\n",
    "\n",
    "This activity will explore how the NBA evolved from being a two point shooting league to a three point shooting one. The main criteria to evaluate if a team is really better with a three point shot is done through analyzing how FG%, eFG%, and TS% correlate with offensive rating. \n",
    "\n",
    "\n",
    "### Objective\n",
    "If any of the shooting percentages increase, does that lead to an increase in offensive rating? If it does, then shooting matters for better offense!\n",
    "\n",
    "### Terminology:\n",
    "**FGM:** number field goals made\n",
    "\n",
    "**FGA:** number field goals attempted\n",
    "\n",
    "**3PM:** number 3-pointers made\n",
    "\n",
    "**FG%:** is the ratio of the field goals made to the field goals attempted\n",
    "\n",
    "<p style=\"text-align: center;\">$FG\\% = \\frac{FGM}{FGA}$</p>\n",
    "\n",
    "**eFG%:** is a weighted version of the FG%, which gives more weight to the 3-point shots since they are more difficult to make\n",
    "\n",
    "<p style=\"text-align: center;\">$eFG\\% = \\frac{FGM + 0.5 * 3PM}{FGA}$</p>\n",
    "\n",
    "**TS%:** true shooting percentage; takes into account all types of shots (free throw, two pointer, three pointer)\n",
    "\n",
    "<p style=\"text-align: center;\">$TS\\% = \\frac{PTS}{2 * TSA}$</p>\n",
    "\n",
    "**TP:** total possessions\n",
    "\n",
    "For more terminology and explanation refer to: https://www.basketball-reference.com/about/glossary.html"
   ]
  },
  {
   "cell_type": "markdown",
   "metadata": {},
   "source": [
    "## What is Offensive Rating?\n",
    "\n",
    "Measures the offensive productivity, which is used to measure a team's offensive performance. Takes into account proints from and percentages of free throws, field goals, three pointers. Also considers offensive rebounds and turnovers. \n",
    "\n",
    "**Offensive rebounds** because that is a chance for the team to score again and continue a possession of a play.\n",
    "\n",
    "**Turnovers** because it is a noisy measure of Offensive Rating, allowing for there to be no perfect correlation between shooting and Offensive Rating. If there were no turnovers, then all the shooting metrics would be perfectly correlated with one another. \n",
    "\n",
    "**Shooting** is important for Offensive Rating because when lower percentage shots are taken, shooting is more indicative of offensive rating. Notice, how the value of the shot doesn't matter; its more of the ability to make a shot than how much a shot it worth.  "
   ]
  },
  {
   "cell_type": "markdown",
   "metadata": {},
   "source": [
    "### Intuition Behind Assignment:\n",
    "Some ideas and the theory behind the game simulation are things I learned from my Sports Analytics class at UC Berkeley; taught by **Alex Papanicolaou**. "
   ]
  },
  {
   "cell_type": "markdown",
   "metadata": {},
   "source": [
    "# Imports"
   ]
  },
  {
   "cell_type": "code",
   "execution_count": 1,
   "metadata": {},
   "outputs": [],
   "source": [
    "import pandas as pd\n",
    "import numpy as np\n",
    "import seaborn as sns\n",
    "import matplotlib.pyplot as plt\n",
    "\n",
    "%matplotlib inline\n",
    "\n",
    "# calculates correlation between -1, 1:\n",
    "from scipy.stats import pearsonr as _pearsonr\n",
    "def correlation(x, y):\n",
    "    rho = _pearsonr(x, y)[0]\n",
    "    if np.isnan(rho):\n",
    "        rho = 0.\n",
    "    return rho\n",
    "\n",
    "# simulates a coin flip with head probability p \n",
    "def coin_flip(p):\n",
    "    return np.random.choice(2, p=[1 - p, p])\n",
    "\n",
    "# Note: no other imports used during this notebook."
   ]
  },
  {
   "cell_type": "markdown",
   "metadata": {},
   "source": [
    "# Dataset and Processing\n",
    "Can be found at Basketball Reference. There are numerous sites where NBA data is posted. "
   ]
  },
  {
   "cell_type": "code",
   "execution_count": 2,
   "metadata": {},
   "outputs": [
    {
     "data": {
      "text/html": [
       "<div>\n",
       "<style scoped>\n",
       "    .dataframe tbody tr th:only-of-type {\n",
       "        vertical-align: middle;\n",
       "    }\n",
       "\n",
       "    .dataframe tbody tr th {\n",
       "        vertical-align: top;\n",
       "    }\n",
       "\n",
       "    .dataframe thead th {\n",
       "        text-align: right;\n",
       "    }\n",
       "</style>\n",
       "<table border=\"1\" class=\"dataframe\">\n",
       "  <thead>\n",
       "    <tr style=\"text-align: right;\">\n",
       "      <th></th>\n",
       "      <th>lg_id</th>\n",
       "      <th>wins</th>\n",
       "      <th>losses</th>\n",
       "      <th>rank_team</th>\n",
       "      <th>srs</th>\n",
       "      <th>pace</th>\n",
       "      <th>pace_rel</th>\n",
       "      <th>off_rtg</th>\n",
       "      <th>off_rtg_rel</th>\n",
       "      <th>def_rtg</th>\n",
       "      <th>...</th>\n",
       "      <th>opp_trb</th>\n",
       "      <th>opp_ast</th>\n",
       "      <th>opp_stl</th>\n",
       "      <th>opp_blk</th>\n",
       "      <th>opp_tov</th>\n",
       "      <th>opp_pf</th>\n",
       "      <th>opp_pts</th>\n",
       "      <th>season</th>\n",
       "      <th>year</th>\n",
       "      <th>team</th>\n",
       "    </tr>\n",
       "  </thead>\n",
       "  <tbody>\n",
       "    <tr>\n",
       "      <th>0</th>\n",
       "      <td>NBA</td>\n",
       "      <td>35.0</td>\n",
       "      <td>47.0</td>\n",
       "      <td>2.0</td>\n",
       "      <td>-1.47</td>\n",
       "      <td>110.8</td>\n",
       "      <td>3.0</td>\n",
       "      <td>97.7</td>\n",
       "      <td>0.0</td>\n",
       "      <td>99.0</td>\n",
       "      <td>...</td>\n",
       "      <td>3896.0</td>\n",
       "      <td>2028.0</td>\n",
       "      <td>823.0</td>\n",
       "      <td>388.0</td>\n",
       "      <td>1846.0</td>\n",
       "      <td>2128.0</td>\n",
       "      <td>9024.0</td>\n",
       "      <td>1973-74</td>\n",
       "      <td>1973</td>\n",
       "      <td>ATL</td>\n",
       "    </tr>\n",
       "    <tr>\n",
       "      <th>1</th>\n",
       "      <td>NBA</td>\n",
       "      <td>54.0</td>\n",
       "      <td>28.0</td>\n",
       "      <td>2.0</td>\n",
       "      <td>3.20</td>\n",
       "      <td>105.0</td>\n",
       "      <td>-2.8</td>\n",
       "      <td>96.7</td>\n",
       "      <td>-1.0</td>\n",
       "      <td>93.6</td>\n",
       "      <td>...</td>\n",
       "      <td>3870.0</td>\n",
       "      <td>1830.0</td>\n",
       "      <td>614.0</td>\n",
       "      <td>406.0</td>\n",
       "      <td>1880.0</td>\n",
       "      <td>2200.0</td>\n",
       "      <td>8097.0</td>\n",
       "      <td>1973-74</td>\n",
       "      <td>1973</td>\n",
       "      <td>CHI</td>\n",
       "    </tr>\n",
       "    <tr>\n",
       "      <th>2</th>\n",
       "      <td>NBA</td>\n",
       "      <td>29.0</td>\n",
       "      <td>53.0</td>\n",
       "      <td>4.0</td>\n",
       "      <td>-4.16</td>\n",
       "      <td>104.1</td>\n",
       "      <td>-3.7</td>\n",
       "      <td>96.0</td>\n",
       "      <td>-1.7</td>\n",
       "      <td>100.1</td>\n",
       "      <td>...</td>\n",
       "      <td>3939.0</td>\n",
       "      <td>2120.0</td>\n",
       "      <td>630.0</td>\n",
       "      <td>343.0</td>\n",
       "      <td>1654.0</td>\n",
       "      <td>1853.0</td>\n",
       "      <td>8576.0</td>\n",
       "      <td>1973-74</td>\n",
       "      <td>1973</td>\n",
       "      <td>CLE</td>\n",
       "    </tr>\n",
       "    <tr>\n",
       "      <th>3</th>\n",
       "      <td>ABA</td>\n",
       "      <td>37.0</td>\n",
       "      <td>47.0</td>\n",
       "      <td>5.0</td>\n",
       "      <td>-0.49</td>\n",
       "      <td>103.2</td>\n",
       "      <td>0.6</td>\n",
       "      <td>103.1</td>\n",
       "      <td>0.1</td>\n",
       "      <td>103.5</td>\n",
       "      <td>...</td>\n",
       "      <td>3955.0</td>\n",
       "      <td>2321.0</td>\n",
       "      <td>760.0</td>\n",
       "      <td>548.0</td>\n",
       "      <td>1417.0</td>\n",
       "      <td>2072.0</td>\n",
       "      <td>9032.0</td>\n",
       "      <td>1973-74</td>\n",
       "      <td>1973</td>\n",
       "      <td>DEN</td>\n",
       "    </tr>\n",
       "    <tr>\n",
       "      <th>4</th>\n",
       "      <td>NBA</td>\n",
       "      <td>52.0</td>\n",
       "      <td>30.0</td>\n",
       "      <td>3.0</td>\n",
       "      <td>4.02</td>\n",
       "      <td>106.5</td>\n",
       "      <td>-1.3</td>\n",
       "      <td>97.6</td>\n",
       "      <td>-0.1</td>\n",
       "      <td>93.8</td>\n",
       "      <td>...</td>\n",
       "      <td>3805.0</td>\n",
       "      <td>1980.0</td>\n",
       "      <td>772.0</td>\n",
       "      <td>410.0</td>\n",
       "      <td>1822.0</td>\n",
       "      <td>1996.0</td>\n",
       "      <td>8227.0</td>\n",
       "      <td>1973-74</td>\n",
       "      <td>1973</td>\n",
       "      <td>DET</td>\n",
       "    </tr>\n",
       "    <tr>\n",
       "      <th>5</th>\n",
       "      <td>NBA</td>\n",
       "      <td>44.0</td>\n",
       "      <td>38.0</td>\n",
       "      <td>2.0</td>\n",
       "      <td>2.42</td>\n",
       "      <td>108.9</td>\n",
       "      <td>1.1</td>\n",
       "      <td>100.8</td>\n",
       "      <td>3.1</td>\n",
       "      <td>98.4</td>\n",
       "      <td>...</td>\n",
       "      <td>3929.0</td>\n",
       "      <td>2027.0</td>\n",
       "      <td>714.0</td>\n",
       "      <td>465.0</td>\n",
       "      <td>1477.0</td>\n",
       "      <td>1826.0</td>\n",
       "      <td>8801.0</td>\n",
       "      <td>1973-74</td>\n",
       "      <td>1973</td>\n",
       "      <td>GSW</td>\n",
       "    </tr>\n",
       "    <tr>\n",
       "      <th>6</th>\n",
       "      <td>NBA</td>\n",
       "      <td>32.0</td>\n",
       "      <td>50.0</td>\n",
       "      <td>3.0</td>\n",
       "      <td>-0.34</td>\n",
       "      <td>106.1</td>\n",
       "      <td>-1.7</td>\n",
       "      <td>100.3</td>\n",
       "      <td>2.6</td>\n",
       "      <td>100.5</td>\n",
       "      <td>...</td>\n",
       "      <td>3781.0</td>\n",
       "      <td>2122.0</td>\n",
       "      <td>707.0</td>\n",
       "      <td>375.0</td>\n",
       "      <td>1737.0</td>\n",
       "      <td>1994.0</td>\n",
       "      <td>8821.0</td>\n",
       "      <td>1973-74</td>\n",
       "      <td>1973</td>\n",
       "      <td>HOU</td>\n",
       "    </tr>\n",
       "    <tr>\n",
       "      <th>7</th>\n",
       "      <td>ABA</td>\n",
       "      <td>45.0</td>\n",
       "      <td>39.0</td>\n",
       "      <td>3.0</td>\n",
       "      <td>0.74</td>\n",
       "      <td>95.0</td>\n",
       "      <td>-7.6</td>\n",
       "      <td>101.7</td>\n",
       "      <td>-1.3</td>\n",
       "      <td>100.8</td>\n",
       "      <td>...</td>\n",
       "      <td>3611.0</td>\n",
       "      <td>1764.0</td>\n",
       "      <td>601.0</td>\n",
       "      <td>409.0</td>\n",
       "      <td>1383.0</td>\n",
       "      <td>1970.0</td>\n",
       "      <td>8126.0</td>\n",
       "      <td>1973-74</td>\n",
       "      <td>1973</td>\n",
       "      <td>SAS</td>\n",
       "    </tr>\n",
       "    <tr>\n",
       "      <th>8</th>\n",
       "      <td>NBA</td>\n",
       "      <td>42.0</td>\n",
       "      <td>40.0</td>\n",
       "      <td>3.0</td>\n",
       "      <td>-0.19</td>\n",
       "      <td>111.6</td>\n",
       "      <td>3.8</td>\n",
       "      <td>99.3</td>\n",
       "      <td>1.6</td>\n",
       "      <td>99.4</td>\n",
       "      <td>...</td>\n",
       "      <td>4004.0</td>\n",
       "      <td>2256.0</td>\n",
       "      <td>798.0</td>\n",
       "      <td>435.0</td>\n",
       "      <td>1763.0</td>\n",
       "      <td>1992.0</td>\n",
       "      <td>9164.0</td>\n",
       "      <td>1973-74</td>\n",
       "      <td>1973</td>\n",
       "      <td>LAC</td>\n",
       "    </tr>\n",
       "    <tr>\n",
       "      <th>9</th>\n",
       "      <td>NBA</td>\n",
       "      <td>47.0</td>\n",
       "      <td>35.0</td>\n",
       "      <td>1.0</td>\n",
       "      <td>0.85</td>\n",
       "      <td>111.7</td>\n",
       "      <td>3.9</td>\n",
       "      <td>97.4</td>\n",
       "      <td>-0.3</td>\n",
       "      <td>96.6</td>\n",
       "      <td>...</td>\n",
       "      <td>4311.0</td>\n",
       "      <td>2061.0</td>\n",
       "      <td>797.0</td>\n",
       "      <td>430.0</td>\n",
       "      <td>1719.0</td>\n",
       "      <td>2135.0</td>\n",
       "      <td>8880.0</td>\n",
       "      <td>1973-74</td>\n",
       "      <td>1973</td>\n",
       "      <td>LAL</td>\n",
       "    </tr>\n",
       "  </tbody>\n",
       "</table>\n",
       "<p>10 rows × 62 columns</p>\n",
       "</div>"
      ],
      "text/plain": [
       "  lg_id  wins  losses  rank_team   srs   pace  pace_rel  off_rtg  off_rtg_rel  \\\n",
       "0   NBA  35.0    47.0        2.0 -1.47  110.8       3.0     97.7          0.0   \n",
       "1   NBA  54.0    28.0        2.0  3.20  105.0      -2.8     96.7         -1.0   \n",
       "2   NBA  29.0    53.0        4.0 -4.16  104.1      -3.7     96.0         -1.7   \n",
       "3   ABA  37.0    47.0        5.0 -0.49  103.2       0.6    103.1          0.1   \n",
       "4   NBA  52.0    30.0        3.0  4.02  106.5      -1.3     97.6         -0.1   \n",
       "5   NBA  44.0    38.0        2.0  2.42  108.9       1.1    100.8          3.1   \n",
       "6   NBA  32.0    50.0        3.0 -0.34  106.1      -1.7    100.3          2.6   \n",
       "7   ABA  45.0    39.0        3.0  0.74   95.0      -7.6    101.7         -1.3   \n",
       "8   NBA  42.0    40.0        3.0 -0.19  111.6       3.8     99.3          1.6   \n",
       "9   NBA  47.0    35.0        1.0  0.85  111.7       3.9     97.4         -0.3   \n",
       "\n",
       "   def_rtg  ...   opp_trb opp_ast  opp_stl opp_blk  opp_tov  opp_pf  opp_pts  \\\n",
       "0     99.0  ...    3896.0  2028.0    823.0   388.0   1846.0  2128.0   9024.0   \n",
       "1     93.6  ...    3870.0  1830.0    614.0   406.0   1880.0  2200.0   8097.0   \n",
       "2    100.1  ...    3939.0  2120.0    630.0   343.0   1654.0  1853.0   8576.0   \n",
       "3    103.5  ...    3955.0  2321.0    760.0   548.0   1417.0  2072.0   9032.0   \n",
       "4     93.8  ...    3805.0  1980.0    772.0   410.0   1822.0  1996.0   8227.0   \n",
       "5     98.4  ...    3929.0  2027.0    714.0   465.0   1477.0  1826.0   8801.0   \n",
       "6    100.5  ...    3781.0  2122.0    707.0   375.0   1737.0  1994.0   8821.0   \n",
       "7    100.8  ...    3611.0  1764.0    601.0   409.0   1383.0  1970.0   8126.0   \n",
       "8     99.4  ...    4004.0  2256.0    798.0   435.0   1763.0  1992.0   9164.0   \n",
       "9     96.6  ...    4311.0  2061.0    797.0   430.0   1719.0  2135.0   8880.0   \n",
       "\n",
       "    season  year  team  \n",
       "0  1973-74  1973   ATL  \n",
       "1  1973-74  1973   CHI  \n",
       "2  1973-74  1973   CLE  \n",
       "3  1973-74  1973   DEN  \n",
       "4  1973-74  1973   DET  \n",
       "5  1973-74  1973   GSW  \n",
       "6  1973-74  1973   HOU  \n",
       "7  1973-74  1973   SAS  \n",
       "8  1973-74  1973   LAC  \n",
       "9  1973-74  1973   LAL  \n",
       "\n",
       "[10 rows x 62 columns]"
      ]
     },
     "execution_count": 2,
     "metadata": {},
     "output_type": "execute_result"
    }
   ],
   "source": [
    "data = pd.read_csv('nba_team_season_data.csv')\n",
    "data.head(10)\n",
    "\n",
    "# Note: more columns in the DataFrame don't matter. Those that are\n",
    "# important are already discussed above. \n",
    "\n",
    "# ABA is the American Basketball Association–what the NBA was\n",
    "# called before the NBA.\n",
    "\n",
    "# Each row is a team in during a NBA or ABA season. "
   ]
  },
  {
   "cell_type": "code",
   "execution_count": 3,
   "metadata": {},
   "outputs": [],
   "source": [
    "# rough calculation of total possessions\n",
    "tp = data['fg2a'] + data['fg3a'].fillna(0) + data['tov'] + .4 * data['fta'] \n",
    "\n",
    "# Rates of free-throw, 2-pointer, 3-pointer, offensive rebound, turnover\n",
    "data['ft_rate'] = .4 * data['fta'] / tp\n",
    "data['fg2_rate'] = data['fg2a'] / tp\n",
    "data['fg3_rate'] = data['fg3a'].fillna(0) / tp\n",
    "data['oreb_rate'] = data['orb'] / (data['orb'] + data['opp_drb'])\n",
    "data['tov_rate'] = data['tov'] / tp\n",
    "\n",
    "# Shooting percents\n",
    "data['fg_pct'] = data['fg'] / data['fga']\n",
    "data['efg_pct'] = (data['fg'] + .5 * data['fg3'].fillna(0) ) / data['fga']\n",
    "data['ts_pct'] = data['pts'] / (2 * (data['fga'] + .44 * data['fta']))"
   ]
  },
  {
   "cell_type": "code",
   "execution_count": 4,
   "metadata": {},
   "outputs": [
    {
     "data": {
      "text/html": [
       "<div>\n",
       "<style scoped>\n",
       "    .dataframe tbody tr th:only-of-type {\n",
       "        vertical-align: middle;\n",
       "    }\n",
       "\n",
       "    .dataframe tbody tr th {\n",
       "        vertical-align: top;\n",
       "    }\n",
       "\n",
       "    .dataframe thead th {\n",
       "        text-align: right;\n",
       "    }\n",
       "</style>\n",
       "<table border=\"1\" class=\"dataframe\">\n",
       "  <thead>\n",
       "    <tr style=\"text-align: right;\">\n",
       "      <th></th>\n",
       "      <th>lg_id</th>\n",
       "      <th>wins</th>\n",
       "      <th>losses</th>\n",
       "      <th>rank_team</th>\n",
       "      <th>srs</th>\n",
       "      <th>pace</th>\n",
       "      <th>pace_rel</th>\n",
       "      <th>off_rtg</th>\n",
       "      <th>off_rtg_rel</th>\n",
       "      <th>def_rtg</th>\n",
       "      <th>...</th>\n",
       "      <th>season</th>\n",
       "      <th>year</th>\n",
       "      <th>team</th>\n",
       "      <th>ft_rate</th>\n",
       "      <th>fg2_rate</th>\n",
       "      <th>fg3_rate</th>\n",
       "      <th>oreb_rate</th>\n",
       "      <th>tov_rate</th>\n",
       "      <th>efg_pct</th>\n",
       "      <th>ts_pct</th>\n",
       "    </tr>\n",
       "  </thead>\n",
       "  <tbody>\n",
       "    <tr>\n",
       "      <th>0</th>\n",
       "      <td>NBA</td>\n",
       "      <td>35.0</td>\n",
       "      <td>47.0</td>\n",
       "      <td>2.0</td>\n",
       "      <td>-1.47</td>\n",
       "      <td>110.8</td>\n",
       "      <td>3.0</td>\n",
       "      <td>97.7</td>\n",
       "      <td>0.0</td>\n",
       "      <td>99.0</td>\n",
       "      <td>...</td>\n",
       "      <td>1973-74</td>\n",
       "      <td>1973</td>\n",
       "      <td>ATL</td>\n",
       "      <td>0.086473</td>\n",
       "      <td>0.739453</td>\n",
       "      <td>0.000000</td>\n",
       "      <td>0.310466</td>\n",
       "      <td>0.174073</td>\n",
       "      <td>0.465134</td>\n",
       "      <td>0.509544</td>\n",
       "    </tr>\n",
       "    <tr>\n",
       "      <th>1</th>\n",
       "      <td>NBA</td>\n",
       "      <td>54.0</td>\n",
       "      <td>28.0</td>\n",
       "      <td>2.0</td>\n",
       "      <td>3.20</td>\n",
       "      <td>105.0</td>\n",
       "      <td>-2.8</td>\n",
       "      <td>96.7</td>\n",
       "      <td>-1.0</td>\n",
       "      <td>93.6</td>\n",
       "      <td>...</td>\n",
       "      <td>1973-74</td>\n",
       "      <td>1973</td>\n",
       "      <td>CHI</td>\n",
       "      <td>0.092619</td>\n",
       "      <td>0.738272</td>\n",
       "      <td>0.000000</td>\n",
       "      <td>0.294816</td>\n",
       "      <td>0.169108</td>\n",
       "      <td>0.446191</td>\n",
       "      <td>0.498323</td>\n",
       "    </tr>\n",
       "    <tr>\n",
       "      <th>2</th>\n",
       "      <td>NBA</td>\n",
       "      <td>29.0</td>\n",
       "      <td>53.0</td>\n",
       "      <td>4.0</td>\n",
       "      <td>-4.16</td>\n",
       "      <td>104.1</td>\n",
       "      <td>-3.7</td>\n",
       "      <td>96.0</td>\n",
       "      <td>-1.7</td>\n",
       "      <td>100.1</td>\n",
       "      <td>...</td>\n",
       "      <td>1973-74</td>\n",
       "      <td>1973</td>\n",
       "      <td>CLE</td>\n",
       "      <td>0.071219</td>\n",
       "      <td>0.774930</td>\n",
       "      <td>0.000000</td>\n",
       "      <td>0.312730</td>\n",
       "      <td>0.153851</td>\n",
       "      <td>0.439476</td>\n",
       "      <td>0.479710</td>\n",
       "    </tr>\n",
       "    <tr>\n",
       "      <th>3</th>\n",
       "      <td>ABA</td>\n",
       "      <td>37.0</td>\n",
       "      <td>47.0</td>\n",
       "      <td>5.0</td>\n",
       "      <td>-0.49</td>\n",
       "      <td>103.2</td>\n",
       "      <td>0.6</td>\n",
       "      <td>103.1</td>\n",
       "      <td>0.1</td>\n",
       "      <td>103.5</td>\n",
       "      <td>...</td>\n",
       "      <td>1973-74</td>\n",
       "      <td>1973</td>\n",
       "      <td>DEN</td>\n",
       "      <td>0.087117</td>\n",
       "      <td>0.740069</td>\n",
       "      <td>0.031168</td>\n",
       "      <td>0.348670</td>\n",
       "      <td>0.141646</td>\n",
       "      <td>0.448458</td>\n",
       "      <td>0.497111</td>\n",
       "    </tr>\n",
       "    <tr>\n",
       "      <th>4</th>\n",
       "      <td>NBA</td>\n",
       "      <td>52.0</td>\n",
       "      <td>30.0</td>\n",
       "      <td>3.0</td>\n",
       "      <td>4.02</td>\n",
       "      <td>106.5</td>\n",
       "      <td>-1.3</td>\n",
       "      <td>97.6</td>\n",
       "      <td>-0.1</td>\n",
       "      <td>93.8</td>\n",
       "      <td>...</td>\n",
       "      <td>1973-74</td>\n",
       "      <td>1973</td>\n",
       "      <td>DET</td>\n",
       "      <td>0.085335</td>\n",
       "      <td>0.740861</td>\n",
       "      <td>0.000000</td>\n",
       "      <td>0.313152</td>\n",
       "      <td>0.173804</td>\n",
       "      <td>0.459481</td>\n",
       "      <td>0.505482</td>\n",
       "    </tr>\n",
       "  </tbody>\n",
       "</table>\n",
       "<p>5 rows × 69 columns</p>\n",
       "</div>"
      ],
      "text/plain": [
       "  lg_id  wins  losses  rank_team   srs   pace  pace_rel  off_rtg  off_rtg_rel  \\\n",
       "0   NBA  35.0    47.0        2.0 -1.47  110.8       3.0     97.7          0.0   \n",
       "1   NBA  54.0    28.0        2.0  3.20  105.0      -2.8     96.7         -1.0   \n",
       "2   NBA  29.0    53.0        4.0 -4.16  104.1      -3.7     96.0         -1.7   \n",
       "3   ABA  37.0    47.0        5.0 -0.49  103.2       0.6    103.1          0.1   \n",
       "4   NBA  52.0    30.0        3.0  4.02  106.5      -1.3     97.6         -0.1   \n",
       "\n",
       "   def_rtg    ...      season  year  team   ft_rate  fg2_rate  fg3_rate  \\\n",
       "0     99.0    ...     1973-74  1973   ATL  0.086473  0.739453  0.000000   \n",
       "1     93.6    ...     1973-74  1973   CHI  0.092619  0.738272  0.000000   \n",
       "2    100.1    ...     1973-74  1973   CLE  0.071219  0.774930  0.000000   \n",
       "3    103.5    ...     1973-74  1973   DEN  0.087117  0.740069  0.031168   \n",
       "4     93.8    ...     1973-74  1973   DET  0.085335  0.740861  0.000000   \n",
       "\n",
       "   oreb_rate  tov_rate   efg_pct    ts_pct  \n",
       "0   0.310466  0.174073  0.465134  0.509544  \n",
       "1   0.294816  0.169108  0.446191  0.498323  \n",
       "2   0.312730  0.153851  0.439476  0.479710  \n",
       "3   0.348670  0.141646  0.448458  0.497111  \n",
       "4   0.313152  0.173804  0.459481  0.505482  \n",
       "\n",
       "[5 rows x 69 columns]"
      ]
     },
     "execution_count": 4,
     "metadata": {},
     "output_type": "execute_result"
    }
   ],
   "source": [
    "data.head()"
   ]
  },
  {
   "cell_type": "markdown",
   "metadata": {},
   "source": [
    "# Over Time ...."
   ]
  },
  {
   "cell_type": "markdown",
   "metadata": {},
   "source": [
    "Seeing how the ABA/NBA has changed by plotting distributions over the years. "
   ]
  },
  {
   "cell_type": "markdown",
   "metadata": {},
   "source": [
    "### FG3 Rate \n",
    "This is the percent of shots that are three point shots. "
   ]
  },
  {
   "cell_type": "code",
   "execution_count": 5,
   "metadata": {},
   "outputs": [
    {
     "data": {
      "image/png": "[encoded data removed]",
      "text/plain": [
       "<Figure size 864x432 with 1 Axes>"
      ]
     },
     "metadata": {
      "needs_background": "light"
     },
     "output_type": "display_data"
    }
   ],
   "source": [
    "data.boxplot(column='fg3_rate', by='year', rot=75, figsize=(12, 6))\n",
    "plt.show()"
   ]
  },
  {
   "cell_type": "markdown",
   "metadata": {},
   "source": [
    "This is clearly evident in today's NBA game. There has been a significant increase in the number of three points in a game (thanks Steph Curry). "
   ]
  },
  {
   "cell_type": "markdown",
   "metadata": {},
   "source": [
    "### 3PT%\n",
    "Accuracy on three point shots. "
   ]
  },
  {
   "cell_type": "code",
   "execution_count": 6,
   "metadata": {},
   "outputs": [
    {
     "data": {
      "image/png": "[encoded data removed]",
      "text/plain": [
       "<Figure size 864x432 with 1 Axes>"
      ]
     },
     "metadata": {
      "needs_background": "light"
     },
     "output_type": "display_data"
    }
   ],
   "source": [
    "data.boxplot(column='fg3_pct', by='year', rot=75, figsize=(12, 6))\n",
    "plt.show()"
   ]
  },
  {
   "cell_type": "markdown",
   "metadata": {},
   "source": [
    "Teams are getting better at shooting the three pointer and have been steady since 1994. "
   ]
  },
  {
   "cell_type": "markdown",
   "metadata": {},
   "source": [
    "### Free Throw Rate"
   ]
  },
  {
   "cell_type": "code",
   "execution_count": 7,
   "metadata": {},
   "outputs": [
    {
     "data": {
      "image/png": "[encoded data removed]",
      "text/plain": [
       "<Figure size 864x432 with 1 Axes>"
      ]
     },
     "metadata": {
      "needs_background": "light"
     },
     "output_type": "display_data"
    }
   ],
   "source": [
    "data.boxplot(column='ft_rate', by='year', rot=75, figsize=(12, 6))\n",
    "plt.show()"
   ]
  },
  {
   "cell_type": "markdown",
   "metadata": {},
   "source": [
    "Free throw percent is invariable over the years (but not for the Rockets)"
   ]
  },
  {
   "cell_type": "markdown",
   "metadata": {},
   "source": [
    "### Turnover Rate"
   ]
  },
  {
   "cell_type": "code",
   "execution_count": 8,
   "metadata": {},
   "outputs": [
    {
     "data": {
      "image/png": "[encoded data removed]",
      "text/plain": [
       "<Figure size 864x432 with 1 Axes>"
      ]
     },
     "metadata": {
      "needs_background": "light"
     },
     "output_type": "display_data"
    }
   ],
   "source": [
    "data.boxplot(column='tov_rate', by='year', rot=75, figsize=(12, 6))\n",
    "plt.show()"
   ]
  },
  {
   "cell_type": "markdown",
   "metadata": {},
   "source": [
    "Teams are becoming better at losing the ball less. "
   ]
  },
  {
   "cell_type": "markdown",
   "metadata": {},
   "source": [
    "### Offensive Rebound Rate"
   ]
  },
  {
   "cell_type": "code",
   "execution_count": 9,
   "metadata": {},
   "outputs": [
    {
     "data": {
      "image/png": "[encoded data removed]",
      "text/plain": [
       "<Figure size 864x432 with 1 Axes>"
      ]
     },
     "metadata": {
      "needs_background": "light"
     },
     "output_type": "display_data"
    }
   ],
   "source": [
    "data.boxplot(column='oreb_rate', by='year', rot=75, figsize=(12, 6))\n",
    "plt.show()"
   ]
  },
  {
   "cell_type": "markdown",
   "metadata": {},
   "source": [
    "Teams are getting less and less rebounds, because they probably don't need to since there is an increase in shooting accuracy."
   ]
  },
  {
   "cell_type": "markdown",
   "metadata": {},
   "source": [
    "### True Shooting"
   ]
  },
  {
   "cell_type": "code",
   "execution_count": 10,
   "metadata": {},
   "outputs": [
    {
     "data": {
      "image/png": "[encoded data removed]",
      "text/plain": [
       "<Figure size 864x432 with 1 Axes>"
      ]
     },
     "metadata": {
      "needs_background": "light"
     },
     "output_type": "display_data"
    }
   ],
   "source": [
    "data.boxplot(column='ts_pct', by='year', rot=75, figsize=(12, 6))\n",
    "plt.show()"
   ]
  },
  {
   "cell_type": "markdown",
   "metadata": {},
   "source": [
    "Teams becoming slightly better at shooting recently. "
   ]
  },
  {
   "cell_type": "markdown",
   "metadata": {},
   "source": [
    "### Offensive Rating"
   ]
  },
  {
   "cell_type": "code",
   "execution_count": 11,
   "metadata": {},
   "outputs": [
    {
     "data": {
      "image/png": "[encoded data removed]",
      "text/plain": [
       "<Figure size 864x432 with 1 Axes>"
      ]
     },
     "metadata": {
      "needs_background": "light"
     },
     "output_type": "display_data"
    }
   ],
   "source": [
    "data.boxplot(column='off_rtg', by='year', rot=75, figsize=(12, 6))\n",
    "plt.show()"
   ]
  },
  {
   "cell_type": "markdown",
   "metadata": {},
   "source": [
    "Very similar pattern to true shooting percent. (Maybe they're correlated?)"
   ]
  },
  {
   "cell_type": "markdown",
   "metadata": {},
   "source": [
    "### Conclusion:\n",
    "There statistics are purely team statistics, not an individual player's statistics. Teams' offensive performance can be judged by the statistics above, but not an individual. However, it shows that if a team is composed of bad shooters or scorers, it can impact the team negatively solely based on the correlation between shooting percentages and offensive rating. "
   ]
  },
  {
   "cell_type": "markdown",
   "metadata": {},
   "source": [
    "# Correlation"
   ]
  },
  {
   "cell_type": "markdown",
   "metadata": {},
   "source": [
    "Best way to understand the statistics and performance at a certain distance from the hoop is the data science way: by simulating! \n",
    "\n",
    "We need to simulate a possession based on scoring ability from a range. Then to simulate a game, we need to group results of many possessions. Then we can simulate many games to simulate an entire season.\n",
    "\n",
    "Follow the comments below for context."
   ]
  },
  {
   "cell_type": "code",
   "execution_count": 12,
   "metadata": {},
   "outputs": [],
   "source": [
    "def sim_pos(performance):\n",
    "    # Simulates one possession in a game\n",
    "    # Probability of en event in performance\n",
    "    prob = [performance['ft_rate'],\n",
    "         performance['fg2_rate'],\n",
    "         performance['fg3_rate'],\n",
    "         performance['tov_rate']]\n",
    "    # One of the above events occur with corresponding probability\n",
    "    event = np.random.choice(['ft', 'fg2', 'fg3', 'tov'], p=prob)\n",
    "    # Return the result of the event playing out\n",
    "    return event_outcome(event, performance)\n",
    "    \n",
    "def freethrow(performance):\n",
    "    # Returns outcome of two free throws\n",
    "    return coin_flip(performance['ft_pct']) + coin_flip(performance['ft_pct'])\n",
    "\n",
    "def two(performance):\n",
    "    # Returns outcome of a two point shot\n",
    "    return 2 * coin_flip(performance['fg2_pct'])\n",
    "\n",
    "def three(performance):\n",
    "    # Returns outcome of a three point shot\n",
    "    return 3 * coin_flip(performance['fg3_pct'])\n",
    "    \n",
    "def event_outcome(event, performance):\n",
    "    if event == 'ft':\n",
    "        return event, freethrow(performance)\n",
    "    if event == 'fg2':\n",
    "        return event, two(performance)\n",
    "    if event == 'fg3':\n",
    "        return event, three(performance)\n",
    "    else:\n",
    "        # There is a turnover, hence no points\n",
    "        return event, 0"
   ]
  },
  {
   "cell_type": "code",
   "execution_count": 13,
   "metadata": {},
   "outputs": [],
   "source": [
    "def sim_game(performance, games=1):\n",
    "    # Simulates a games number of game\n",
    "    # Average 100 possessions per team in NBA game\n",
    "    outcomes = []\n",
    "    for i in np.arange(games * 100):\n",
    "        event, points = sim_pos(performance)\n",
    "        outcomes.append({'event': event, 'points': points})\n",
    "    # turn outcomes into a DataFrame:\n",
    "    game = pd.DataFrame(outcomes)\n",
    "    return game"
   ]
  },
  {
   "cell_type": "code",
   "execution_count": 14,
   "metadata": {},
   "outputs": [
    {
     "data": {
      "text/plain": [
       "fg2_rate    0.40\n",
       "fg3_rate    0.50\n",
       "ft_rate     0.05\n",
       "tov_rate    0.05\n",
       "fg2_pct     0.50\n",
       "fg3_pct     0.45\n",
       "ft_pct      0.92\n",
       "dtype: float64"
      ]
     },
     "execution_count": 14,
     "metadata": {},
     "output_type": "execute_result"
    }
   ],
   "source": [
    "# Say your team is full of Steph Curries where you shoot\n",
    "# 30% 2 pointers, 60% three pointers, turn the ball over \n",
    "# 5% of the time, and shoot free throws 5% of the time.\n",
    "\n",
    "# A player has a 50% field goal percentage, 45% three point percentage\n",
    "# and a 92% free throw percentage\n",
    "\n",
    "# Then your performance is:\n",
    "curries = pd.Series(\n",
    "            [0.4, 0.5, 0.05, 0.05, .5, .45, .92],\n",
    "        index=['fg2_rate', 'fg3_rate', 'ft_rate', 'tov_rate', 'fg2_pct', 'fg3_pct', 'ft_pct'])\n",
    "\n",
    "curries"
   ]
  },
  {
   "cell_type": "code",
   "execution_count": 15,
   "metadata": {},
   "outputs": [
    {
     "data": {
      "text/html": [
       "<div>\n",
       "<style scoped>\n",
       "    .dataframe tbody tr th:only-of-type {\n",
       "        vertical-align: middle;\n",
       "    }\n",
       "\n",
       "    .dataframe tbody tr th {\n",
       "        vertical-align: top;\n",
       "    }\n",
       "\n",
       "    .dataframe thead th {\n",
       "        text-align: right;\n",
       "    }\n",
       "</style>\n",
       "<table border=\"1\" class=\"dataframe\">\n",
       "  <thead>\n",
       "    <tr style=\"text-align: right;\">\n",
       "      <th></th>\n",
       "      <th>event</th>\n",
       "      <th>points</th>\n",
       "    </tr>\n",
       "  </thead>\n",
       "  <tbody>\n",
       "    <tr>\n",
       "      <th>0</th>\n",
       "      <td>fg3</td>\n",
       "      <td>0</td>\n",
       "    </tr>\n",
       "    <tr>\n",
       "      <th>1</th>\n",
       "      <td>fg3</td>\n",
       "      <td>3</td>\n",
       "    </tr>\n",
       "    <tr>\n",
       "      <th>2</th>\n",
       "      <td>fg3</td>\n",
       "      <td>0</td>\n",
       "    </tr>\n",
       "    <tr>\n",
       "      <th>3</th>\n",
       "      <td>fg3</td>\n",
       "      <td>0</td>\n",
       "    </tr>\n",
       "    <tr>\n",
       "      <th>4</th>\n",
       "      <td>fg3</td>\n",
       "      <td>0</td>\n",
       "    </tr>\n",
       "    <tr>\n",
       "      <th>5</th>\n",
       "      <td>fg2</td>\n",
       "      <td>0</td>\n",
       "    </tr>\n",
       "    <tr>\n",
       "      <th>6</th>\n",
       "      <td>fg2</td>\n",
       "      <td>2</td>\n",
       "    </tr>\n",
       "    <tr>\n",
       "      <th>7</th>\n",
       "      <td>ft</td>\n",
       "      <td>2</td>\n",
       "    </tr>\n",
       "    <tr>\n",
       "      <th>8</th>\n",
       "      <td>fg3</td>\n",
       "      <td>0</td>\n",
       "    </tr>\n",
       "    <tr>\n",
       "      <th>9</th>\n",
       "      <td>fg2</td>\n",
       "      <td>2</td>\n",
       "    </tr>\n",
       "    <tr>\n",
       "      <th>10</th>\n",
       "      <td>fg2</td>\n",
       "      <td>2</td>\n",
       "    </tr>\n",
       "    <tr>\n",
       "      <th>11</th>\n",
       "      <td>fg3</td>\n",
       "      <td>3</td>\n",
       "    </tr>\n",
       "    <tr>\n",
       "      <th>12</th>\n",
       "      <td>fg3</td>\n",
       "      <td>3</td>\n",
       "    </tr>\n",
       "    <tr>\n",
       "      <th>13</th>\n",
       "      <td>fg2</td>\n",
       "      <td>0</td>\n",
       "    </tr>\n",
       "    <tr>\n",
       "      <th>14</th>\n",
       "      <td>fg3</td>\n",
       "      <td>3</td>\n",
       "    </tr>\n",
       "    <tr>\n",
       "      <th>15</th>\n",
       "      <td>fg3</td>\n",
       "      <td>0</td>\n",
       "    </tr>\n",
       "    <tr>\n",
       "      <th>16</th>\n",
       "      <td>fg2</td>\n",
       "      <td>2</td>\n",
       "    </tr>\n",
       "    <tr>\n",
       "      <th>17</th>\n",
       "      <td>fg2</td>\n",
       "      <td>2</td>\n",
       "    </tr>\n",
       "    <tr>\n",
       "      <th>18</th>\n",
       "      <td>fg2</td>\n",
       "      <td>2</td>\n",
       "    </tr>\n",
       "    <tr>\n",
       "      <th>19</th>\n",
       "      <td>fg3</td>\n",
       "      <td>0</td>\n",
       "    </tr>\n",
       "  </tbody>\n",
       "</table>\n",
       "</div>"
      ],
      "text/plain": [
       "   event  points\n",
       "0    fg3       0\n",
       "1    fg3       3\n",
       "2    fg3       0\n",
       "3    fg3       0\n",
       "4    fg3       0\n",
       "5    fg2       0\n",
       "6    fg2       2\n",
       "7     ft       2\n",
       "8    fg3       0\n",
       "9    fg2       2\n",
       "10   fg2       2\n",
       "11   fg3       3\n",
       "12   fg3       3\n",
       "13   fg2       0\n",
       "14   fg3       3\n",
       "15   fg3       0\n",
       "16   fg2       2\n",
       "17   fg2       2\n",
       "18   fg2       2\n",
       "19   fg3       0"
      ]
     },
     "execution_count": 15,
     "metadata": {},
     "output_type": "execute_result"
    }
   ],
   "source": [
    "# Simulating one game with a team full of Steph Curries\n",
    "curry_game = sim_game(curries, 1)\n",
    "\n",
    "# Make sense of the results, maybe change the percentages of curries\n",
    "# above and see what's happening to the results. \n",
    "# Notice the free throws are pretty much always going in (if there\n",
    "# even are any since they only occur 5% of the time)!\n",
    "curry_game.head(20)"
   ]
  },
  {
   "cell_type": "code",
   "execution_count": 42,
   "metadata": {},
   "outputs": [],
   "source": [
    "def game_results(performance, games=1):\n",
    "    # Returns a dictionary of the shooting splits after simulating\n",
    "    # a game\n",
    "    results_table = sim_game(performance, games)\n",
    "    \n",
    "    # Results by play outcomes:\n",
    "    ft = results_table[results_table['event'] == 'ft']\n",
    "    fgs = results_table[results_table['event'].str.contains('fg')]\n",
    "    fg3 = results_table[results_table['event'] == 'fg3']\n",
    "    \n",
    "    # Number in each play outcomes:\n",
    "    ft_made = len(ft[ft['points'] != 0])\n",
    "    fta = len(ft)\n",
    "    fg_made = len(fgs[fgs['points'] != 0])\n",
    "    fg3_made = len(fg3[fg3['points'] != 0])\n",
    "    fga = len(fgs)\n",
    "    total_points = sum(results_table['points'])\n",
    "    \n",
    "    # Shooting percentages:\n",
    "    fg_per = fg_made/fga\n",
    "    efg_per = (fg_made + 0.5 * fg3_made)/fga\n",
    "    ts_per = total_points/(2 * (fga + 0.5 * fta))\n",
    "    offensive_rate = total_points/games\n",
    "    \n",
    "    return {'fg%' : fg_per, 'efg%' : efg_per,\n",
    "            'ts%' : ts_per, 'off_rat' : offensive_rate}"
   ]
  },
  {
   "cell_type": "code",
   "execution_count": 66,
   "metadata": {},
   "outputs": [
    {
     "name": "stdout",
     "output_type": "stream",
     "text": [
      "fg%: 0.47368421052631576\n",
      "efg%: 0.5736842105263158\n",
      "ts%: 0.5958549222797928\n",
      "off_rat: 115.0\n"
     ]
    }
   ],
   "source": [
    "# Lets look at Curries team's shooting splits:\n",
    "curry_results = game_results(curries, 1)\n",
    "\n",
    "# Look at that baller offensive rating\n",
    "def print_results(results):\n",
    "    for i in results:\n",
    "        print(str(i) + ': ' + str(results[i]))\n",
    "    \n",
    "print_results(curry_results)    \n",
    "    \n",
    "# Once I got an offensive rating of 138.\n",
    "# Bet you can't get a higher offensive rating with Curries."
   ]
  },
  {
   "cell_type": "code",
   "execution_count": 67,
   "metadata": {},
   "outputs": [],
   "source": [
    "# classic simulation where a game is simulated a number of times\n",
    "# returns the results of the simulation\n",
    "def simulation(performance, n):\n",
    "    results = []\n",
    "    for _ in range(n):\n",
    "        results.append(game_results(performance, 1))\n",
    "    results_df = pd.DataFrame(results)\n",
    "    return results_df[['fg%', 'efg%', 'ts%', 'off_rat']]"
   ]
  },
  {
   "cell_type": "code",
   "execution_count": 68,
   "metadata": {},
   "outputs": [],
   "source": [
    "# Note: for this to work have at least 2 games simulated\n",
    "\n",
    "def percent_correlations(results):\n",
    "    fg_p = correlation(results['fg%'].values, results['off_rat'].values)\n",
    "    print(f\"FG% vs Off. Rating:  {fg_p:.3f}\")\n",
    "    efg_p = correlation(results['efg%'].values, results['off_rat'].values)\n",
    "    print(f\"eFG% vs Off. Rating: {efg_p:.3f}\")\n",
    "    ts_p = correlation(results['ts%'].values, results['off_rat'].values)\n",
    "    print(f\"TS% vs Off. Rating:  {ts_p:.3f}\")"
   ]
  },
  {
   "cell_type": "code",
   "execution_count": 69,
   "metadata": {},
   "outputs": [
    {
     "name": "stdout",
     "output_type": "stream",
     "text": [
      "FG% vs Off. Rating:  0.929\n",
      "eFG% vs Off. Rating: 0.965\n",
      "TS% vs Off. Rating:  0.971\n"
     ]
    }
   ],
   "source": [
    "curry_simulation = simulation(curries, 1000)\n",
    "percent_correlations(curry_simulation)"
   ]
  },
  {
   "cell_type": "markdown",
   "metadata": {},
   "source": [
    "### Discover For Yourself\n",
    "Try to create performance probability arrays and rates to see different correlations given the above formulas. "
   ]
  },
  {
   "cell_type": "code",
   "execution_count": 47,
   "metadata": {},
   "outputs": [],
   "source": [
    "# helpful function to help create performances:\n",
    "def perf(fg2_rate, fg3_rate, ft_rate, tov_rate, fg2_pct, fg3_pct, ft_pct):\n",
    "    return pd.Series({\n",
    "            'fg2_rate': fg2_rate, \n",
    "            'fg3_rate': fg3_rate,\n",
    "            'ft_rate': ft_rate,\n",
    "            'tov_rate': tov_rate,\n",
    "            'fg2_pct': fg2_pct, \n",
    "            'fg3_pct': fg3_pct,\n",
    "            'ft_pct': ft_pct\n",
    "            })"
   ]
  },
  {
   "cell_type": "markdown",
   "metadata": {},
   "source": [
    "#### Example:\n",
    "What happens to the correlations when the 2-point shot is guaranteed to go in?"
   ]
  },
  {
   "cell_type": "code",
   "execution_count": 49,
   "metadata": {},
   "outputs": [
    {
     "name": "stdout",
     "output_type": "stream",
     "text": [
      "FG% vs Off. Rating:  0.000\n",
      "eFG% vs Off. Rating: 0.000\n",
      "TS% vs Off. Rating:  0.000\n"
     ]
    }
   ],
   "source": [
    "guaranteed2 = perf(0.85, 0, 0, 0.15, 1., 0., 0.75)\n",
    "percent_correlations(simulation(guaranteed2, 1000))"
   ]
  },
  {
   "cell_type": "markdown",
   "metadata": {},
   "source": [
    "They are not correlated at all...."
   ]
  },
  {
   "cell_type": "markdown",
   "metadata": {},
   "source": [
    "#### Try different performances based on your interests..."
   ]
  },
  {
   "cell_type": "markdown",
   "metadata": {},
   "source": [
    "Here are some ideas:\n",
    "1. Make the 3-pt shot guaranteed\n",
    "2. Change the percent of threes and twos or make them equal\n",
    "3. Score only using free throws\n",
    "4. Have a very high turnover rate\n",
    "5. Be James Harden: only threes and free throws"
   ]
  },
  {
   "cell_type": "markdown",
   "metadata": {},
   "source": [
    "# Conclusion\n",
    "In this notebook:\n",
    "1. You were able to learn how the NBA has changed over time. \n",
    "2. You learned to simulate the offense in an NBA game based on a limited set of in-game statistics \n",
    "3. You customized the offense of an NBA game by your interests.\n",
    "4. You learned something about the correlation between shooting and offensive rating.\n",
    "\n",
    "Hopefully, as an NBA fan, you enjoyed learning about the NBA and analyzing team data! If you're not an NBA fan, I hope you took away something meaningful about time-series analysis and simulations!"
   ]
  }
 ],
 "metadata": {
  "kernelspec": {
   "display_name": "Python 3",
   "language": "python",
   "name": "python3"
  },
  "language_info": {
   "codemirror_mode": {
    "name": "ipython",
    "version": 3
   },
   "file_extension": ".py",
   "mimetype": "text/x-python",
   "name": "python",
   "nbconvert_exporter": "python",
   "pygments_lexer": "ipython3",
   "version": "3.6.8"
  }
 },
 "nbformat": 4,
 "nbformat_minor": 2
}
