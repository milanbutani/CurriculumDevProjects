{
 "cells": [
  {
   "cell_type": "markdown",
   "metadata": {},
   "source": [
    "Sources: \n",
    "<BR>\n",
    "Data100 Textbook: https://www.textbook.ds100.org/ch/12/prob_and_gen.html\n",
    "<BR>\n",
    "Foundations of Statistical Inference slides by Sandrine Dudoit:       http://www.ds100.org/sp19/assets/lectures/lec12/inference.pdf"
   ]
  },
  {
   "cell_type": "markdown",
   "metadata": {},
   "source": [
    "#### Steps to create a linear model:\n",
    "1. Select a model (constant, linear, quadratic, logistical)\n",
    "2. Select a lsos function (MSE, MAE, Huber)\n",
    "3. Fit the model by minimizing the loss on the dataset (gradient descent)"
   ]
  },
  {
   "cell_type": "markdown",
   "metadata": {},
   "source": [
    "## General Terms:\n",
    "- **fitted values/fit**: also known as predicted values; values returned by a model once the modeal is created\n",
    "- **residuals**: difference of the actual value and the predicted value; used to assess the fit of the model\n",
    "- **goodness of fit measure**: another term for the loss function we are using the model"
   ]
  },
  {
   "cell_type": "markdown",
   "metadata": {},
   "source": [
    "## Statistical Inference:\n",
    "- Deals with how to use the sample to infer or learn about the population.\n",
    "- Take a sample and then learn something about the population based on that sample; a sample is a **proxy** for the population.\n",
    "- Sample should be representative of the population and selected according to well-defined probabilistic procedures\n",
    "\n",
    "#### Box Model for Sampling:\n",
    "- population of interest is represented by a box of N tickets, each with values written on them\n",
    "- a sample is a subset of tickets drawn from the box and the data are the values on those tickets\n",
    "- a Simple Random Sample of size n is obtined by drawing n tickets **without replacement**\n",
    "\n",
    "#### Terms:\n",
    "- **population distribution**: values in population have a distribution\n",
    "- **parameter**: is a function of values in the population; for example, the average of all values in the population"
   ]
  },
  {
   "cell_type": "markdown",
   "metadata": {},
   "source": [
    "## Constant Model:\n",
    "**constant model** : a model that outputs the same number for all entries in the dataset\n",
    "- this model is bad because it ignores asosciastions between two (or more) variables in the data\n",
    "- leads to a lot of bias and little variance\n",
    "- a good choice here is the average, as that is the minimizing value"
   ]
  },
  {
   "cell_type": "markdown",
   "metadata": {},
   "source": [
    "## Linear Model:\n",
    "**linear model** : a model that outputs the same number for all entries in the dataset\n",
    "- this model is more informative than the constant model, but doesn't account for the association of more than two variables; because it is linear, one variable of the dataset is used to create this mooel\n",
    "- leads to less bias and more varinace than the constant model, but we can still do better "
   ]
  },
  {
   "cell_type": "markdown",
   "metadata": {},
   "source": [
    "## Expectation and Variance:\n",
    "#### Terms:\n",
    "- **random variable**: is a numerical values determined by a probabilistic event/outcome; denoted by capital letters; used to respresent discrete random variables\n",
    "- **probability mass function (pmf)**: provides the probability that a random variable takes on each of its possible values\n",
    "- **cumulative distribution function**: is non-decreasing, right-continuous and its range is [0, 1]\n",
    "- **joint distributions**: yields the probability that two random variables simultaneously take on specific set of values\n",
    "- **marginal distributions**: shows the probability one random variable takes on a specific set of values \n",
    "\n",
    "### Expected Values:\n",
    "- **expected value or expectation**: the long run average of a ranodm variable; gives a sense of the center of the variable's distribution\n",
    "- **linearity of expectation**: rules governing expected values and variances of dependent and indepent random variables:\n",
    "    - dependent and independent:\n",
    "        - E [ X + Y ] = E [ X ] + E [ Y ]\n",
    "        - E [ cX ] = c * E [ X ]\n",
    "    - independent:\n",
    "        - E [ XY ] = E [ X ] E [ Y ]\n",
    " \n",
    "### Variance:\n",
    "- **variance**: the mean sqaured deviation of a random variable from its mean (or expected value)\n",
    "    - square root of variance is standard deviation\n",
    "    - Var[X] = E [ (X - E [ X ] ) ^ 2]\n",
    "    - Var[X] = E [ X ^ 2 ] - (E [ X ]) ^ 2\n",
    "    - Var[aX + b] = a^2 * Var[X]\n",
    "- **linearity of expectation**:\n",
    "    - independent:\n",
    "        - Var[X + Y] = Var[X] + Var[Y]\n",
    "\n",
    "### Covariance:\n",
    "- **covariance**: used to measure the linear association or correlation between two random variables and the sign of covariance relfects whether they are positively or negtively correlated\n",
    "    - Cov[X, Y] = E [ (X - E [ X ] ) ( Y - E [Y] ) ]\n",
    "    - When X = Y, covariance is just the variance of X (or Y)\n",
    "    - Cov[X, Y] = E [ XY ]  - E[ X ] * E[ Y ]\n",
    "    - When X and Y are independent, covariance is 0. \n",
    "    - When dependent: Var[ X + Y ] = Var[X] + Var[Y] + 2 * Cov[X, Y]\n",
    "    - always a number between -1 and 1"
   ]
  },
  {
   "cell_type": "markdown",
   "metadata": {},
   "source": [
    "## Risk:\n",
    "- also known as the expect loss, which is used to represent the innaccurate predictions on the trianing data\n",
    "- **risk** is the expected value of the model's loss\n",
    "    - for MSE: Risk = expected value of (X - $\\Theta$) ** 2\n",
    "    - risk = bias ^ 2 + variance\n",
    "    - to minimie risk we need to make sure our model has no bias and that the theta we choose is the expected value of X"
   ]
  }
 ],
 "metadata": {
  "kernelspec": {
   "display_name": "Python 3",
   "language": "python",
   "name": "python3"
  },
  "language_info": {
   "codemirror_mode": {
    "name": "ipython",
    "version": 3
   },
   "file_extension": ".py",
   "mimetype": "text/x-python",
   "name": "python",
   "nbconvert_exporter": "python",
   "pygments_lexer": "ipython3",
   "version": "3.6.4"
  }
 },
 "nbformat": 4,
 "nbformat_minor": 2
}
