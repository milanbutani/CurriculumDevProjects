{
 "cells": [
  {
   "cell_type": "code",
   "execution_count": 1,
   "metadata": {},
   "outputs": [],
   "source": [
    "# this contains various notes about test statistics, hypothesis testing,\n",
    "# p-values, null and alternative testing, iteration"
   ]
  },
  {
   "cell_type": "code",
   "execution_count": 2,
   "metadata": {},
   "outputs": [],
   "source": [
    "from datascience import *\n",
    "import numpy as np"
   ]
  },
  {
   "cell_type": "markdown",
   "metadata": {},
   "source": [
    "## Test statistics:"
   ]
  },
  {
   "cell_type": "markdown",
   "metadata": {},
   "source": [
    "#### Definition: a test statistic allows us to decided whether the hypothesis test points in the direction of the null or alternative hypothesis.\n",
    "\n",
    "Defintion of Null Hypothesis: this is a general statement or the deafault take on what should be happening for something. \n",
    "\n",
    "For example: If we were deciding whether a coin flip is fair or not, we would want the null hypothesis to be that the coin is fair (and that the number of tails is equal to the humber of heads, or that the probability of getting a head is 50%). Note there are many forms of a null hyptohesis. \n",
    "\n",
    "Defintion of Alternative Hypothesis: is contrary to the null hypothesis; used to test against the null hypothesis.\n",
    "\n",
    "For example: If we are trying to test whether a coin flip is fair or not, our alternative hypothesis will be that the coin isn't fair (or that there are more tails than heads, or the probability of getting a tail is more than 50%). Note there are also many forms of an alternative hypothesis. \n",
    "\n"
   ]
  },
  {
   "cell_type": "markdown",
   "metadata": {},
   "source": [
    "#### Test Statistic and Choosing the Right One:"
   ]
  },
  {
   "cell_type": "markdown",
   "metadata": {},
   "source": [
    "Notice how there are many forms of alternative and null hypotheses. This gives us many choices for a test statistic. \n",
    "\n",
    "In the coin flip example, we can choose one of many test statistics:\n",
    "1. The number of heads in 10 coin flips. (Should be 5 if fair)\n",
    "2. The number of tails in 10 coin flips. (Should be 5 if fair)\n",
    "3. The proportion of heads in 10 coin flips. (Should be 0.5 if fair)\n",
    "4. The proportion of tails in 10 coin flips. (Should be 0.5 if fair)\n",
    "5. The number of heads minus the number of tails. (Should be 0 if fair)\n",
    "6. 10 minus the number of heads. (Should be 5 if fair)\n",
    "7. 10 minus the number of tails. (Should be 5 if fair)"
   ]
  },
  {
   "cell_type": "markdown",
   "metadata": {},
   "source": [
    "## Hypothesis Testing:"
   ]
  },
  {
   "cell_type": "markdown",
   "metadata": {},
   "source": [
    "In a hypothesis test, we will test to see which is true: the alternative or null hypothesis. We will do this by simulating samples for a certain number of times. Then we will compare the simulated statistic and the observed statistic and compute a p-value based on the comparisons. "
   ]
  },
  {
   "cell_type": "markdown",
   "metadata": {},
   "source": [
    "#### test #1:"
   ]
  },
  {
   "cell_type": "markdown",
   "metadata": {},
   "source": [
    "Let's try to test whether a coin flip is fair or not for 10 flips. We will use number of heads as test statistic. "
   ]
  },
  {
   "cell_type": "markdown",
   "metadata": {},
   "source": [
    "Say we flip a coin ten times and get that nine heads show up. Then our observed statistic should be 9 because that is what he obsevre in the coin flip. "
   ]
  },
  {
   "cell_type": "code",
   "execution_count": 4,
   "metadata": {},
   "outputs": [],
   "source": [
    "observed_statistic = 9"
   ]
  },
  {
   "cell_type": "markdown",
   "metadata": {},
   "source": [
    "But we say to ourselves, that getting 9 heads out of 10 is definitely weird becuase we should be getting around 5 if the coin is fair. Our null hypothesis is that the coin is fair, and the number of heads should be 5. Alternatively, the coin isn't fair and number of heads isn't (or isn't close to) 5. "
   ]
  },
  {
   "cell_type": "code",
   "execution_count": 5,
   "metadata": {},
   "outputs": [],
   "source": [
    "# we will sample 5000 times: \n",
    "# before sampling, a quick intro to for loop syntax which allows iteration:"
   ]
  },
  {
   "cell_type": "markdown",
   "metadata": {},
   "source": [
    "#### For Loop Syntax"
   ]
  },
  {
   "cell_type": "markdown",
   "metadata": {},
   "source": [
    "In a for loop, we have statement telling you to go through each element in an array and a body. The body tells you what to do for each element in the sequence:\n",
    "\n",
    "```for item in array:\n",
    "    body```\n",
    "    \n",
    "For example:\n",
    "our array can be [1, 2, 3] and we can say\n",
    "\n",
    "```for number in [1, 2, 3]:\n",
    "    print(number)```"
   ]
  },
  {
   "cell_type": "code",
   "execution_count": 6,
   "metadata": {},
   "outputs": [
    {
     "name": "stdout",
     "output_type": "stream",
     "text": [
      "1\n",
      "2\n",
      "3\n"
     ]
    }
   ],
   "source": [
    "# running the print:\n",
    "for number in [1, 2, 3]:\n",
    "    print(number)"
   ]
  },
  {
   "cell_type": "markdown",
   "metadata": {},
   "source": [
    "As we can see for every number in the array, it did something!"
   ]
  },
  {
   "cell_type": "markdown",
   "metadata": {},
   "source": [
    "#### Back to sampling:"
   ]
  },
  {
   "cell_type": "code",
   "execution_count": 13,
   "metadata": {},
   "outputs": [
    {
     "data": {
      "text/plain": [
       "array([ 0,  1,  2,  3,  4,  5,  6,  7,  8,  9, 10, 11, 12, 13, 14, 15, 16,\n",
       "       17, 18, 19, 20, 21, 22, 23, 24, 25, 26, 27, 28, 29, 30, 31, 32, 33,\n",
       "       34, 35, 36, 37, 38, 39, 40, 41, 42, 43, 44, 45, 46, 47, 48, 49, 50,\n",
       "       51, 52, 53, 54, 55, 56, 57, 58, 59, 60, 61, 62, 63, 64, 65, 66, 67,\n",
       "       68, 69, 70, 71, 72, 73, 74, 75, 76, 77, 78, 79, 80, 81, 82, 83, 84,\n",
       "       85, 86, 87, 88, 89, 90, 91, 92, 93, 94, 95, 96, 97, 98, 99])"
      ]
     },
     "execution_count": 13,
     "metadata": {},
     "output_type": "execute_result"
    }
   ],
   "source": [
    "# we will need the range method\n",
    "array = np.array(range(100))\n",
    "array"
   ]
  },
  {
   "cell_type": "markdown",
   "metadata": {},
   "source": [
    "Range makes an array of items from 0 to n - 1 for the specified n in the range function."
   ]
  },
  {
   "cell_type": "code",
   "execution_count": 17,
   "metadata": {},
   "outputs": [
    {
     "name": "stdout",
     "output_type": "stream",
     "text": [
      "0\n",
      "1\n",
      "2\n",
      "3\n",
      "4\n",
      "5\n",
      "6\n",
      "7\n",
      "8\n",
      "9\n"
     ]
    }
   ],
   "source": [
    "# how to iterate using range:\n",
    "for item in range(10): \n",
    "    print(item)"
   ]
  },
  {
   "cell_type": "markdown",
   "metadata": {},
   "source": [
    "#### We will use this method of iterating through a range when sampling"
   ]
  },
  {
   "cell_type": "code",
   "execution_count": 30,
   "metadata": {},
   "outputs": [
    {
     "data": {
      "text/plain": [
       "array([0.7, 0.3])"
      ]
     },
     "execution_count": 30,
     "metadata": {},
     "output_type": "execute_result"
    }
   ],
   "source": [
    "# first try to get one simulated statistic, and then iterate!\n",
    "sample_proportions(10, [0.6, 0.4])\n",
    "# this will give us proportion of heads and tails, but we want a number of heads."
   ]
  },
  {
   "cell_type": "code",
   "execution_count": 31,
   "metadata": {},
   "outputs": [
    {
     "data": {
      "text/plain": [
       "6.0"
      ]
     },
     "execution_count": 31,
     "metadata": {},
     "output_type": "execute_result"
    }
   ],
   "source": [
    "# We can take the first proportion to be that of heads, and multiply\n",
    "# it by 10 to get number of heads\n",
    "sample_proportions(10, [0.6, 0.4])[0] * 10"
   ]
  },
  {
   "cell_type": "markdown",
   "metadata": {},
   "source": [
    "For the sample above, we got 6 heads out of 10 for that one time. Now we can iterate!"
   ]
  },
  {
   "cell_type": "code",
   "execution_count": 45,
   "metadata": {},
   "outputs": [],
   "source": [
    "# we want to collect the simulated_statistic over the number of times we sample\n",
    "# so we create an array to capture the simulated_statistic\n",
    "simulated_statistic = make_array()\n",
    "# now we iterate using range\n",
    "for number in range(1000): # we will sample 1000 times\n",
    "    statistic = sample_proportions(10, [0.5, 0.5])[0] * 10\n",
    "    simulated_statistic = np.append(statistic, simulated_statistic)"
   ]
  },
  {
   "cell_type": "code",
   "execution_count": 46,
   "metadata": {},
   "outputs": [
    {
     "data": {
      "text/plain": [
       "array([ 5.,  5.,  4.,  6.,  4.,  6.,  6.,  6.,  6.,  6.,  6.,  5.,  4.,\n",
       "        4.,  8.,  5.,  5.,  5.,  6.,  4.,  4.,  6.,  4.,  3.,  1.,  6.,\n",
       "        8.,  1.,  5.,  6.,  3.,  4.,  5.,  7.,  6.,  6.,  3.,  5.,  6.,\n",
       "        4.,  8.,  5.,  4.,  6.,  5.,  5.,  4.,  7.,  5.,  5.,  4.,  7.,\n",
       "        4.,  4.,  5.,  8.,  5.,  5.,  5.,  6.,  7.,  4.,  5.,  4.,  4.,\n",
       "        6.,  5.,  6.,  5.,  4.,  4.,  6.,  4.,  3.,  5.,  5.,  5.,  6.,\n",
       "        3.,  6.,  4.,  6.,  4.,  7.,  6.,  0.,  2.,  4.,  3.,  6.,  7.,\n",
       "        5.,  6.,  4.,  5.,  6.,  2.,  3.,  5.,  5.,  5.,  8.,  9.,  5.,\n",
       "        5.,  5.,  6.,  7.,  4.,  4.,  6.,  4.,  4.,  7.,  7.,  4.,  5.,\n",
       "        6.,  7.,  6.,  5.,  6.,  6.,  3.,  3.,  5.,  4.,  8.,  5.,  3.,\n",
       "        5.,  4.,  4.,  4.,  6.,  4.,  3.,  7.,  2.,  6.,  5.,  7.,  4.,\n",
       "        5.,  6.,  4.,  4.,  3.,  3.,  6.,  4.,  5.,  5.,  4.,  7.,  7.,\n",
       "        6.,  6.,  7.,  3.,  2.,  6.,  5.,  3.,  7.,  5.,  5.,  4.,  4.,\n",
       "        6.,  4.,  4.,  4.,  6.,  6.,  4.,  4.,  7.,  3.,  7.,  3.,  7.,\n",
       "        3.,  3.,  6.,  3.,  4.,  5.,  4.,  6.,  2.,  3.,  5.,  7.,  7.,\n",
       "        4.,  7.,  4.,  5.,  5.,  2.,  9.,  4.,  5.,  6.,  4.,  6.,  6.,\n",
       "        6.,  7.,  3.,  4.,  1.,  5.,  4.,  6.,  5.,  6.,  5.,  5.,  5.,\n",
       "        4.,  4.,  6.,  5.,  6.,  6.,  4.,  4.,  3.,  7.,  3.,  4.,  5.,\n",
       "        7.,  6.,  3.,  5.,  9.,  6.,  4.,  7.,  4.,  7.,  5.,  3.,  6.,\n",
       "        4.,  7.,  4.,  6.,  1.,  4.,  6.,  8.,  8.,  5.,  2.,  3.,  2.,\n",
       "        3.,  8.,  4.,  7.,  5.,  8.,  6.,  3.,  6.,  8.,  6.,  6.,  6.,\n",
       "        5.,  6.,  3.,  5.,  4.,  5.,  8.,  9.,  7.,  5.,  5.,  5.,  5.,\n",
       "        7.,  4.,  6.,  6.,  7.,  6.,  4.,  4.,  3.,  3.,  6.,  6.,  5.,\n",
       "        4.,  5.,  6.,  6.,  6.,  6.,  6.,  6.,  6.,  6.,  3.,  6.,  1.,\n",
       "        9.,  3.,  5.,  4.,  4.,  6.,  2.,  6.,  4.,  5.,  3.,  7.,  5.,\n",
       "        2.,  5.,  4.,  6.,  6.,  5.,  2.,  7.,  4.,  3.,  5.,  3.,  4.,\n",
       "        2.,  6.,  4.,  1.,  5.,  8.,  3.,  5.,  7.,  8.,  4.,  3.,  4.,\n",
       "        7.,  6.,  5.,  5.,  7.,  6.,  7.,  3.,  6.,  3.,  4.,  3.,  4.,\n",
       "        4.,  5.,  4.,  6.,  4.,  4.,  5.,  3.,  2.,  7.,  5.,  3.,  2.,\n",
       "        2.,  3.,  7.,  9.,  5.,  5.,  4.,  5.,  7.,  5.,  6.,  3.,  3.,\n",
       "        3.,  4.,  6.,  5.,  7.,  3.,  6.,  5.,  4.,  4.,  5.,  5.,  6.,\n",
       "        8.,  4.,  8.,  2.,  5.,  5.,  5.,  5.,  7.,  7.,  6.,  3.,  1.,\n",
       "        6.,  7.,  5.,  2.,  7.,  8.,  5.,  4.,  6.,  1.,  6.,  4.,  7.,\n",
       "        5.,  4.,  5.,  7.,  5.,  4.,  2.,  4.,  6.,  7.,  6.,  6.,  5.,\n",
       "        4.,  8.,  5.,  6.,  5.,  5.,  5.,  3.,  4.,  1.,  5.,  2.,  6.,\n",
       "        5.,  7.,  6.,  6.,  3.,  5.,  2.,  7.,  6.,  3.,  4.,  7.,  7.,\n",
       "        3.,  5.,  8.,  7.,  6.,  6.,  4.,  7.,  6.,  5.,  5.,  1.,  6.,\n",
       "        5.,  8.,  4.,  7.,  4.,  4.,  3.,  5.,  6.,  7.,  4.,  3.,  4.,\n",
       "        5.,  4.,  4.,  5.,  5.,  3.,  7.,  6.,  6.,  5.,  4.,  3.,  4.,\n",
       "        4.,  3.,  5.,  4.,  5.,  3.,  2.,  6.,  4.,  4.,  2.,  6.,  7.,\n",
       "        6.,  6.,  5.,  3.,  2.,  4.,  5.,  6.,  4.,  5.,  8.,  5.,  6.,\n",
       "        6.,  2.,  4.,  4.,  4.,  5., 10.,  8.,  6.,  4.,  4.,  5.,  4.,\n",
       "        7.,  7.,  8.,  7.,  7.,  2.,  8.,  5.,  5.,  3.,  4.,  5.,  5.,\n",
       "        2.,  4.,  6.,  7.,  6.,  5.,  3.,  4.,  6.,  1.,  2.,  6.,  7.,\n",
       "        3.,  4.,  8.,  5.,  5.,  5.,  4.,  3.,  4.,  4.,  7.,  6.,  8.,\n",
       "        4.,  3.,  5.,  3.,  7.,  5.,  3.,  4.,  5.,  9.,  2.,  6.,  6.,\n",
       "        6.,  4.,  4.,  5.,  6.,  6.,  8.,  5.,  4.,  2.,  2.,  5.,  7.,\n",
       "        7.,  2.,  2.,  5.,  3.,  4.,  3.,  6.,  7.,  7.,  6.,  7.,  4.,\n",
       "        8.,  4.,  7.,  6.,  5.,  7.,  4.,  5.,  6.,  4.,  9.,  6.,  5.,\n",
       "        5.,  5.,  5.,  5.,  5.,  5.,  6.,  5.,  3.,  5.,  4.,  6.,  6.,\n",
       "        5.,  4.,  5.,  4.,  6.,  5.,  5.,  6.,  5.,  7.,  5.,  6.,  3.,\n",
       "        9.,  4.,  6.,  3.,  6.,  3.,  6.,  6.,  2.,  4.,  3.,  7.,  2.,\n",
       "        5.,  4.,  6.,  4.,  4.,  6.,  4.,  5.,  9.,  2.,  5.,  8.,  5.,\n",
       "        6.,  5.,  6.,  4.,  5.,  6.,  3.,  4.,  5.,  5.,  3.,  5.,  3.,\n",
       "        6.,  6.,  5.,  7.,  4.,  7.,  2.,  3.,  4.,  2.,  8.,  5.,  7.,\n",
       "        6.,  6.,  4.,  3.,  2.,  9.,  8.,  6.,  4.,  5.,  6.,  3.,  3.,\n",
       "        5.,  5.,  8.,  5.,  8.,  4.,  8.,  4.,  2.,  5.,  3.,  7.,  6.,\n",
       "        9.,  2.,  6.,  5.,  3.,  5.,  2.,  6.,  3.,  7.,  4.,  3.,  8.,\n",
       "        4.,  7.,  6.,  7.,  6.,  4.,  6.,  4.,  9.,  3.,  6.,  4.,  7.,\n",
       "        3.,  5.,  4.,  4.,  6.,  6.,  6.,  4.,  3.,  5.,  5.,  6.,  5.,\n",
       "        5.,  4.,  5.,  9.,  5.,  6.,  7.,  4.,  8.,  5.,  4.,  8.,  8.,\n",
       "        8.,  3.,  4.,  1.,  7.,  3.,  6.,  5.,  5.,  5.,  8.,  4.,  7.,\n",
       "        5.,  6.,  6.,  5.,  5.,  3.,  5.,  4.,  4.,  3.,  5.,  5.,  6.,\n",
       "        5.,  6.,  6.,  4.,  4.,  4.,  5.,  4.,  3.,  7.,  5.,  5.,  4.,\n",
       "        6.,  4.,  6.,  7.,  6.,  8.,  5.,  3.,  2.,  3.,  6.,  4.,  3.,\n",
       "        4.,  8.,  2.,  4.,  6.,  6.,  7.,  7.,  5.,  3.,  5.,  7.,  4.,\n",
       "        6.,  4.,  6.,  7.,  5.,  5.,  4.,  5.,  3.,  4.,  8.,  5.,  6.,\n",
       "        3.,  9.,  7.,  6.,  4.,  4.,  5.,  5.,  8.,  6.,  3.,  6.,  5.,\n",
       "        4.,  3.,  5.,  4.,  7.,  3.,  4.,  6.,  7.,  4.,  4.,  2.,  7.,\n",
       "        4.,  4.,  4.,  7.,  5.,  6.,  6.,  6.,  4.,  4.,  1.,  6.,  4.,\n",
       "        3.,  3.,  5.,  7.,  5.,  5.,  5.,  5.,  7.,  5.,  5.,  5.,  4.,\n",
       "        4.,  7.,  3.,  5.,  8.,  3.,  6.,  7.,  8.,  5.,  5.,  6.,  5.,\n",
       "        5.,  6.,  4.,  5.,  3.,  2.,  4.,  3.,  3.,  6.,  4.,  7.,  2.,\n",
       "        5.,  8.,  3.,  2.,  3.,  5.,  6.,  2.,  8.,  6.,  5.,  7.,  5.,\n",
       "        7.,  1.,  6.,  6.,  5.,  6.,  4.,  4.,  6.,  2.,  1.,  7.,  7.,\n",
       "        5.,  4.,  5.,  4.,  4.,  9.,  9.,  6.,  6.,  5.,  7.,  6.,  8.,\n",
       "        4.,  5.,  5.,  3.,  5.,  6.,  4.,  7.,  7.,  5.,  7.,  5.])"
      ]
     },
     "execution_count": 46,
     "metadata": {},
     "output_type": "execute_result"
    }
   ],
   "source": [
    "simulated_statistic"
   ]
  },
  {
   "cell_type": "markdown",
   "metadata": {},
   "source": [
    "simulated_statistic represents our sample. Now we will check how many times its more than 9. "
   ]
  },
  {
   "cell_type": "code",
   "execution_count": 47,
   "metadata": {},
   "outputs": [
    {
     "data": {
      "text/plain": [
       "array([False, False, False, False, False, False, False, False, False,\n",
       "       False, False, False, False, False, False, False, False, False,\n",
       "       False, False, False, False, False, False, False, False, False,\n",
       "       False, False, False, False, False, False, False, False, False,\n",
       "       False, False, False, False, False, False, False, False, False,\n",
       "       False, False, False, False, False, False, False, False, False,\n",
       "       False, False, False, False, False, False, False, False, False,\n",
       "       False, False, False, False, False, False, False, False, False,\n",
       "       False, False, False, False, False, False, False, False, False,\n",
       "       False, False, False, False, False, False, False, False, False,\n",
       "       False, False, False, False, False, False, False, False, False,\n",
       "       False, False, False, False, False, False, False, False, False,\n",
       "       False, False, False, False, False, False, False, False, False,\n",
       "       False, False, False, False, False, False, False, False, False,\n",
       "       False, False, False, False, False, False, False, False, False,\n",
       "       False, False, False, False, False, False, False, False, False,\n",
       "       False, False, False, False, False, False, False, False, False,\n",
       "       False, False, False, False, False, False, False, False, False,\n",
       "       False, False, False, False, False, False, False, False, False,\n",
       "       False, False, False, False, False, False, False, False, False,\n",
       "       False, False, False, False, False, False, False, False, False,\n",
       "       False, False, False, False, False, False, False, False, False,\n",
       "       False, False, False, False, False, False, False, False, False,\n",
       "       False, False, False, False, False, False, False, False, False,\n",
       "       False, False, False, False, False, False, False, False, False,\n",
       "       False, False, False, False, False, False, False, False, False,\n",
       "       False, False, False, False, False, False, False, False, False,\n",
       "       False, False, False, False, False, False, False, False, False,\n",
       "       False, False, False, False, False, False, False, False, False,\n",
       "       False, False, False, False, False, False, False, False, False,\n",
       "       False, False, False, False, False, False, False, False, False,\n",
       "       False, False, False, False, False, False, False, False, False,\n",
       "       False, False, False, False, False, False, False, False, False,\n",
       "       False, False, False, False, False, False, False, False, False,\n",
       "       False, False, False, False, False, False, False, False, False,\n",
       "       False, False, False, False, False, False, False, False, False,\n",
       "       False, False, False, False, False, False, False, False, False,\n",
       "       False, False, False, False, False, False, False, False, False,\n",
       "       False, False, False, False, False, False, False, False, False,\n",
       "       False, False, False, False, False, False, False, False, False,\n",
       "       False, False, False, False, False, False, False, False, False,\n",
       "       False, False, False, False, False, False, False, False, False,\n",
       "       False, False, False, False, False, False, False, False, False,\n",
       "       False, False, False, False, False, False, False, False, False,\n",
       "       False, False, False, False, False, False, False, False, False,\n",
       "       False, False, False, False, False, False, False, False, False,\n",
       "       False, False, False, False, False, False, False, False, False,\n",
       "       False, False, False, False, False, False, False, False, False,\n",
       "       False, False, False, False, False, False, False, False, False,\n",
       "       False, False, False, False, False, False, False, False, False,\n",
       "       False, False, False, False, False, False, False, False, False,\n",
       "       False, False, False, False, False, False, False, False, False,\n",
       "       False, False, False, False, False, False, False, False, False,\n",
       "       False, False, False, False, False, False, False, False, False,\n",
       "       False, False, False, False, False, False, False, False, False,\n",
       "       False, False, False, False, False, False, False, False, False,\n",
       "       False, False, False, False, False, False, False, False, False,\n",
       "       False, False, False, False, False, False, False, False, False,\n",
       "       False, False, False, False, False, False, False, False, False,\n",
       "       False, False, False, False, False, False, False, False,  True,\n",
       "       False, False, False, False, False, False, False, False, False,\n",
       "       False, False, False, False, False, False, False, False, False,\n",
       "       False, False, False, False, False, False, False, False, False,\n",
       "       False, False, False, False, False, False, False, False, False,\n",
       "       False, False, False, False, False, False, False, False, False,\n",
       "       False, False, False, False, False, False, False, False, False,\n",
       "       False, False, False, False, False, False, False, False, False,\n",
       "       False, False, False, False, False, False, False, False, False,\n",
       "       False, False, False, False, False, False, False, False, False,\n",
       "       False, False, False, False, False, False, False, False, False,\n",
       "       False, False, False, False, False, False, False, False, False,\n",
       "       False, False, False, False, False, False, False, False, False,\n",
       "       False, False, False, False, False, False, False, False, False,\n",
       "       False, False, False, False, False, False, False, False, False,\n",
       "       False, False, False, False, False, False, False, False, False,\n",
       "       False, False, False, False, False, False, False, False, False,\n",
       "       False, False, False, False, False, False, False, False, False,\n",
       "       False, False, False, False, False, False, False, False, False,\n",
       "       False, False, False, False, False, False, False, False, False,\n",
       "       False, False, False, False, False, False, False, False, False,\n",
       "       False, False, False, False, False, False, False, False, False,\n",
       "       False, False, False, False, False, False, False, False, False,\n",
       "       False, False, False, False, False, False, False, False, False,\n",
       "       False, False, False, False, False, False, False, False, False,\n",
       "       False, False, False, False, False, False, False, False, False,\n",
       "       False, False, False, False, False, False, False, False, False,\n",
       "       False, False, False, False, False, False, False, False, False,\n",
       "       False, False, False, False, False, False, False, False, False,\n",
       "       False, False, False, False, False, False, False, False, False,\n",
       "       False, False, False, False, False, False, False, False, False,\n",
       "       False, False, False, False, False, False, False, False, False,\n",
       "       False, False, False, False, False, False, False, False, False,\n",
       "       False, False, False, False, False, False, False, False, False,\n",
       "       False, False, False, False, False, False, False, False, False,\n",
       "       False, False, False, False, False, False, False, False, False,\n",
       "       False, False, False, False, False, False, False, False, False,\n",
       "       False, False, False, False, False, False, False, False, False,\n",
       "       False, False, False, False, False, False, False, False, False,\n",
       "       False, False, False, False, False, False, False, False, False,\n",
       "       False, False, False, False, False, False, False, False, False,\n",
       "       False, False, False, False, False, False, False, False, False,\n",
       "       False, False, False, False, False, False, False, False, False,\n",
       "       False, False, False, False, False, False, False, False, False,\n",
       "       False, False, False, False, False, False, False, False, False,\n",
       "       False, False, False, False, False, False, False, False, False,\n",
       "       False, False, False, False, False, False, False, False, False,\n",
       "       False, False, False, False, False, False, False, False, False,\n",
       "       False, False, False, False, False, False, False, False, False,\n",
       "       False, False, False, False, False, False, False, False, False,\n",
       "       False, False, False, False, False, False, False, False, False,\n",
       "       False, False, False, False, False, False, False, False, False,\n",
       "       False])"
      ]
     },
     "execution_count": 47,
     "metadata": {},
     "output_type": "execute_result"
    }
   ],
   "source": [
    "simulated_statistic > observed_statistic"
   ]
  },
  {
   "cell_type": "code",
   "execution_count": 48,
   "metadata": {},
   "outputs": [
    {
     "data": {
      "text/plain": [
       "1"
      ]
     },
     "execution_count": 48,
     "metadata": {},
     "output_type": "execute_result"
    }
   ],
   "source": [
    "# to count the number of times its true, use either np.count_nonzero or sum:\n",
    "sum(simulated_statistic > observed_statistic)"
   ]
  },
  {
   "cell_type": "code",
   "execution_count": 49,
   "metadata": {},
   "outputs": [
    {
     "data": {
      "text/plain": [
       "1"
      ]
     },
     "execution_count": 49,
     "metadata": {},
     "output_type": "execute_result"
    }
   ],
   "source": [
    "np.count_nonzero(simulated_statistic > observed_statistic)"
   ]
  },
  {
   "cell_type": "code",
   "execution_count": 50,
   "metadata": {},
   "outputs": [
    {
     "data": {
      "text/plain": [
       "0.001"
      ]
     },
     "execution_count": 50,
     "metadata": {},
     "output_type": "execute_result"
    }
   ],
   "source": [
    "# to find the p-value, take the count when the simulated statistic \n",
    "# is more than the observed and divide by the number of times samples\n",
    "# were taken:\n",
    "np.count_nonzero(simulated_statistic > observed_statistic)/1000"
   ]
  },
  {
   "cell_type": "markdown",
   "metadata": {},
   "source": [
    "Our p-value is:   __0.001__"
   ]
  },
  {
   "cell_type": "markdown",
   "metadata": {},
   "source": [
    "Now say we have an "
   ]
  }
 ],
 "metadata": {
  "kernelspec": {
   "display_name": "Python 3",
   "language": "python",
   "name": "python3"
  },
  "language_info": {
   "codemirror_mode": {
    "name": "ipython",
    "version": 3
   },
   "file_extension": ".py",
   "mimetype": "text/x-python",
   "name": "python",
   "nbconvert_exporter": "python",
   "pygments_lexer": "ipython3",
   "version": "3.6.7"
  }
 },
 "nbformat": 4,
 "nbformat_minor": 2
}
