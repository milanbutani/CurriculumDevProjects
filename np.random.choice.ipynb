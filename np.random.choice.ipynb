{
 "cells": [
  {
   "cell_type": "code",
   "execution_count": 1,
   "metadata": {},
   "outputs": [],
   "source": [
    "from datascience import *\n",
    "import numpy as np"
   ]
  },
  {
   "cell_type": "markdown",
   "metadata": {},
   "source": [
    "## np.random.choice"
   ]
  },
  {
   "cell_type": "markdown",
   "metadata": {},
   "source": [
    "``` np.random.choice(a, size=) ```"
   ]
  },
  {
   "cell_type": "markdown",
   "metadata": {},
   "source": [
    "``` np.random.choice(a, size=, replace=, p=) ```"
   ]
  },
  {
   "cell_type": "markdown",
   "metadata": {},
   "source": [
    "np.random.choice allows to randomly sample based on proportions and/or replacement. We specify an array `a` with elements that we aim to choose from, specify a sample `size` and whether we want to `replace` in our random sample or not. The array `p` contains proportions for corresponding elements in the `a` array. \n",
    "\n",
    "Note: `a` takes in an array or a number; `size` takes in a number; `replace` takes in true or false; `p` takes in an array of proportions. "
   ]
  },
  {
   "cell_type": "markdown",
   "metadata": {},
   "source": [
    "## Examples:"
   ]
  },
  {
   "cell_type": "code",
   "execution_count": 6,
   "metadata": {},
   "outputs": [
    {
     "data": {
      "text/plain": [
       "array([2, 0, 0])"
      ]
     },
     "execution_count": 6,
     "metadata": {},
     "output_type": "execute_result"
    }
   ],
   "source": [
    "np.random.choice(make_array(0, 1, 2), size=3)"
   ]
  },
  {
   "cell_type": "markdown",
   "metadata": {},
   "source": [
    "In the above example, we are choosing three numbers from an array of 0, 1, 2 at random. Since there is no specificed value for `replace`, it is defaulted to `True` and proportions `p`, it is defaulted to make all proportions equal. Thus, 0, 1, and 2 have an equal chance of being chosen."
   ]
  },
  {
   "cell_type": "code",
   "execution_count": 7,
   "metadata": {},
   "outputs": [
    {
     "data": {
      "text/plain": [
       "array([0, 2, 1])"
      ]
     },
     "execution_count": 7,
     "metadata": {},
     "output_type": "execute_result"
    }
   ],
   "source": [
    "np.random.choice(make_array(0, 1, 2), size=3, replace=False)"
   ]
  },
  {
   "cell_type": "markdown",
   "metadata": {},
   "source": [
    "In the above example, we are choosing three numbers from an array of 0, 1, 2 at random. Except this time we are doing without replacement. Also note that each number has an eqaul chance of being chosen: namely 0.33.\n",
    "\n",
    "First, the number 0 is chosen. Then since ```replace=False```, we have to choose from 1 and 2. Then 2 is chosen and we only have one number left to choose, and so 1 is chosen."
   ]
  },
  {
   "cell_type": "code",
   "execution_count": 8,
   "metadata": {},
   "outputs": [
    {
     "data": {
      "text/plain": [
       "array([0, 1, 2])"
      ]
     },
     "execution_count": 8,
     "metadata": {},
     "output_type": "execute_result"
    }
   ],
   "source": [
    "np.random.choice(make_array(0, 1, 2), size=3, replace=False)"
   ]
  },
  {
   "cell_type": "code",
   "execution_count": 9,
   "metadata": {},
   "outputs": [
    {
     "data": {
      "text/plain": [
       "array([1, 0, 2])"
      ]
     },
     "execution_count": 9,
     "metadata": {},
     "output_type": "execute_result"
    }
   ],
   "source": [
    "# There is another way to do the same thing as above:\n",
    "np.random.choice(3, size=3, replace=False)"
   ]
  },
  {
   "cell_type": "markdown",
   "metadata": {},
   "source": [
    "Notice how this time an array is not passed in; a number is passed in. This automatically creates an array from ```0 to n - 1```, which is what will be sampled from. And in both cases, the result is the same. Even though the order is of the result is different, the sampling done is still similar, and, of course, the ordering will be different since this is a random sample!"
   ]
  },
  {
   "cell_type": "markdown",
   "metadata": {},
   "source": [
    "#### We aren't confinded to sampling numbers, we can sample names or words:"
   ]
  },
  {
   "cell_type": "code",
   "execution_count": 10,
   "metadata": {},
   "outputs": [
    {
     "data": {
      "text/plain": [
       "array(['Mona', 'Michelle', 'Mia', 'Margherita', 'Milan'], dtype='<U10')"
      ]
     },
     "execution_count": 10,
     "metadata": {},
     "output_type": "execute_result"
    }
   ],
   "source": [
    "np.random.choice(make_array(\n",
    "    'Milan', 'Michelle', 'Margherita', 'Mia', 'Mona'), size=5, replace=False)"
   ]
  },
  {
   "cell_type": "markdown",
   "metadata": {},
   "source": [
    "Since we have ```replace=False``` and ```size=5```, we have to choose all the possible outcomes!"
   ]
  },
  {
   "cell_type": "code",
   "execution_count": 11,
   "metadata": {},
   "outputs": [
    {
     "data": {
      "text/plain": [
       "array(['Margherita', 'Margherita', 'Milan', 'Milan', 'Mia'], dtype='<U10')"
      ]
     },
     "execution_count": 11,
     "metadata": {},
     "output_type": "execute_result"
    }
   ],
   "source": [
    "np.random.choice(make_array('Milan', 'Michelle', 'Margherita', 'Mia', 'Mona'), size=5, replace=True)"
   ]
  },
  {
   "cell_type": "markdown",
   "metadata": {},
   "source": [
    "Since we have ```replace=True``` and ```size=5```, we choose randomly with replacement and it is possible to choose the sanem more than once. Notice how ```'Milan'``` is chosen twice. "
   ]
  },
  {
   "cell_type": "markdown",
   "metadata": {},
   "source": [
    "## Examples with proportions:"
   ]
  },
  {
   "cell_type": "code",
   "execution_count": 19,
   "metadata": {},
   "outputs": [
    {
     "data": {
      "text/plain": [
       "array([2, 1, 2])"
      ]
     },
     "execution_count": 19,
     "metadata": {},
     "output_type": "execute_result"
    }
   ],
   "source": [
    "np.random.choice(make_array(0, 1, 2), size=3, replace=True, p=make_array(0.1, 0.4, 0.5))"
   ]
  },
  {
   "cell_type": "markdown",
   "metadata": {},
   "source": [
    "In the above example, 0 has a 0.1 chance of being select; 1 has a 0.4 chance; and 2 has a 0.5 chance. Everything else in the random sample is the same. And notice how, since 2 has a 0.5 chance of being chosen, it shows up more frequently in our chosen sample."
   ]
  },
  {
   "cell_type": "code",
   "execution_count": 21,
   "metadata": {},
   "outputs": [
    {
     "data": {
      "text/plain": [
       "array([1, 2, 2, 2, 1, 2, 2, 1, 1, 1])"
      ]
     },
     "execution_count": 21,
     "metadata": {},
     "output_type": "execute_result"
    }
   ],
   "source": [
    "np.random.choice(make_array(0, 1, 2), size=10, replace=True, p=make_array(0.1, 0.4, 0.5))"
   ]
  },
  {
   "cell_type": "markdown",
   "metadata": {},
   "source": [
    "In the above example, 2 and 1 appear 5 times each. This proves that it is randomly chosen!"
   ]
  },
  {
   "cell_type": "code",
   "execution_count": 22,
   "metadata": {},
   "outputs": [
    {
     "data": {
      "text/plain": [
       "array([0, 0, 0, 0, 0, 0, 0, 0, 0, 0])"
      ]
     },
     "execution_count": 22,
     "metadata": {},
     "output_type": "execute_result"
    }
   ],
   "source": [
    "np.random.choice(make_array(0, 1, 2), size=10, replace=True, p=make_array(1, 0, 0))"
   ]
  },
  {
   "cell_type": "markdown",
   "metadata": {},
   "source": [
    "To drive the point home, this time 0 has a 100% chance of being chosen, and 1 and 2 have 0% chance each. As a result, everything in the chosen sample is 0!"
   ]
  },
  {
   "cell_type": "markdown",
   "metadata": {},
   "source": [
    "## Things to Notice:"
   ]
  },
  {
   "cell_type": "markdown",
   "metadata": {},
   "source": [
    "#### Here I am reverting pack to eqaul proportion for the items in the array:"
   ]
  },
  {
   "cell_type": "code",
   "execution_count": 24,
   "metadata": {},
   "outputs": [
    {
     "ename": "ValueError",
     "evalue": "Cannot take a larger sample than population when 'replace=False'",
     "output_type": "error",
     "traceback": [
      "\u001b[0;31m---------------------------------------------------------------------------\u001b[0m",
      "\u001b[0;31mValueError\u001b[0m                                Traceback (most recent call last)",
      "\u001b[0;32m<ipython-input-24-7b6b2b0f1d55>\u001b[0m in \u001b[0;36m<module>\u001b[0;34m\u001b[0m\n\u001b[0;32m----> 1\u001b[0;31m \u001b[0mnp\u001b[0m\u001b[0;34m.\u001b[0m\u001b[0mrandom\u001b[0m\u001b[0;34m.\u001b[0m\u001b[0mchoice\u001b[0m\u001b[0;34m(\u001b[0m\u001b[0mmake_array\u001b[0m\u001b[0;34m(\u001b[0m\u001b[0;36m0\u001b[0m\u001b[0;34m,\u001b[0m \u001b[0;36m1\u001b[0m\u001b[0;34m,\u001b[0m \u001b[0;36m2\u001b[0m\u001b[0;34m)\u001b[0m\u001b[0;34m,\u001b[0m \u001b[0msize\u001b[0m\u001b[0;34m=\u001b[0m\u001b[0;36m4\u001b[0m\u001b[0;34m,\u001b[0m \u001b[0mreplace\u001b[0m\u001b[0;34m=\u001b[0m\u001b[0;32mFalse\u001b[0m\u001b[0;34m)\u001b[0m\u001b[0;34m\u001b[0m\u001b[0;34m\u001b[0m\u001b[0m\n\u001b[0m",
      "\u001b[0;32mmtrand.pyx\u001b[0m in \u001b[0;36mmtrand.RandomState.choice\u001b[0;34m()\u001b[0m\n",
      "\u001b[0;31mValueError\u001b[0m: Cannot take a larger sample than population when 'replace=False'"
     ]
    }
   ],
   "source": [
    "np.random.choice(make_array(0, 1, 2), size=4, replace=False)"
   ]
  },
  {
   "cell_type": "markdown",
   "metadata": {},
   "source": [
    "This error is valid and let's try to make sense of it. So we want to choose from 3 numbers 4 times and we are __not__ replacing! This is interesting because we can't do it unless we replace. \n",
    "\n",
    "For instance, say we choose 0 first time.\n",
    "Then we have to choose from 1 and 2. (Note we need to select three times)\n",
    "Say we select 1. Now we need to choose from 2, and we need to make two selections. \n",
    "Now we choose the last remaining element, which is 2. But we need to choose one more time, and we don't have anything to choose form! \n",
    "\n",
    "Thus, we get the error!"
   ]
  },
  {
   "cell_type": "code",
   "execution_count": 25,
   "metadata": {},
   "outputs": [
    {
     "data": {
      "text/plain": [
       "array([2, 3, 0, 1])"
      ]
     },
     "execution_count": 25,
     "metadata": {},
     "output_type": "execute_result"
    }
   ],
   "source": [
    "np.random.choice(make_array(0, 1, 2, 3), size=4, replace=False)"
   ]
  },
  {
   "cell_type": "markdown",
   "metadata": {},
   "source": [
    "This works because the number of elements in the array is equal to size, so we can sample without replacement here!"
   ]
  },
  {
   "cell_type": "markdown",
   "metadata": {},
   "source": [
    "## Usefullness of np.random.choice:"
   ]
  },
  {
   "cell_type": "markdown",
   "metadata": {},
   "source": [
    "```np.random.choice``` is useful because it allows us to conduct random samples based on proportions for the items in our array we are choosing from. \n",
    "\n",
    "For example say we have a coin that is biased (such that getting a head is 80% likley and a tail is 20%) and we want to see how many heads we get. To sample based on this, we can do the following:\n",
    "\n",
    "```np.random.choice(make_array('Heads', 'Tails'), size=10, p=make_array(0.8, 0.2))```"
   ]
  },
  {
   "cell_type": "code",
   "execution_count": 27,
   "metadata": {},
   "outputs": [
    {
     "data": {
      "text/plain": [
       "array(['Heads', 'Tails', 'Heads', 'Heads', 'Heads', 'Heads', 'Tails',\n",
       "       'Heads', 'Heads', 'Heads'], dtype='<U5')"
      ]
     },
     "execution_count": 27,
     "metadata": {},
     "output_type": "execute_result"
    }
   ],
   "source": [
    "np.random.choice(make_array('Heads', 'Tails'), size=10, p=make_array(0.8, 0.2))"
   ]
  },
  {
   "cell_type": "markdown",
   "metadata": {},
   "source": [
    "Perfectly enough, we get 8 heads!"
   ]
  },
  {
   "cell_type": "markdown",
   "metadata": {},
   "source": [
    "And even if __everything is equally likely__ this can be done by not specifying anything in the `p=` argument. In other words do what we've been doing.\n",
    "\n",
    "To randomly sample an unbiased (fair) coin, do the following: \n",
    "```np.random.choice(make_array('Heads', 'Tails'), size=10)```"
   ]
  },
  {
   "cell_type": "code",
   "execution_count": 28,
   "metadata": {},
   "outputs": [
    {
     "data": {
      "text/plain": [
       "array(['Heads', 'Heads', 'Tails', 'Tails', 'Heads', 'Tails', 'Heads',\n",
       "       'Tails', 'Heads', 'Tails'], dtype='<U5')"
      ]
     },
     "execution_count": 28,
     "metadata": {},
     "output_type": "execute_result"
    }
   ],
   "source": [
    "np.random.choice(make_array('Heads', 'Tails'), size=10)"
   ]
  },
  {
   "cell_type": "markdown",
   "metadata": {},
   "source": [
    "Again, perfeclty enough, we get 5 heads! "
   ]
  },
  {
   "cell_type": "markdown",
   "metadata": {},
   "source": [
    "__(I didn't do any voodoo magic to get exactly 8 and exactly 5 heads for the random samples above! It's all random!)__"
   ]
  }
 ],
 "metadata": {
  "kernelspec": {
   "display_name": "Python 3",
   "language": "python",
   "name": "python3"
  },
  "language_info": {
   "codemirror_mode": {
    "name": "ipython",
    "version": 3
   },
   "file_extension": ".py",
   "mimetype": "text/x-python",
   "name": "python",
   "nbconvert_exporter": "python",
   "pygments_lexer": "ipython3",
   "version": "3.6.7"
  }
 },
 "nbformat": 4,
 "nbformat_minor": 2
}
